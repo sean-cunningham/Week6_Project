{
 "cells": [
  {
   "cell_type": "markdown",
   "id": "9c9d22c1",
   "metadata": {},
   "source": [
    "# Data Science Tools and Ecosystem"
   ]
  },
  {
   "cell_type": "markdown",
   "id": "7b5cde8e",
   "metadata": {},
   "source": [
    "In this notebook, Data Science Tools and Ecosystem are summarized"
   ]
  },
  {
   "cell_type": "markdown",
   "id": "e2b516dc",
   "metadata": {},
   "source": [
    "Objectives:\n",
    "- List popular languages used for data science\n",
    "- List commonly used libraries for data science\n",
    "- List commonly used tools for data science\n",
    "- Display an arithmetic expression that multiplies and then adds numbers\n",
    "- Display an arithmetic expression that divides numbers"
   ]
  },
  {
   "cell_type": "markdown",
   "id": "6f904f91",
   "metadata": {},
   "source": [
    "Some of the popular languages that Data Scientists use are:\n",
    "1. Python\n",
    "2. R\n",
    "3. SQL"
   ]
  },
  {
   "cell_type": "markdown",
   "id": "9568c8e0",
   "metadata": {},
   "source": [
    "Some of the commonly used libraries used by Data Scientists include:\n",
    "1. Pandas\n",
    "2. NumPy\n",
    "3. Matpltlib"
   ]
  },
  {
   "cell_type": "markdown",
   "id": "b1d674b7",
   "metadata": {},
   "source": [
    "| Data Science Tools |\n",
    "------\n",
    "| Jupyter Notebooks | \n",
    "| Jupyter Lab |\n",
    "| RStudio |\n"
   ]
  },
  {
   "cell_type": "markdown",
   "id": "76ad0437",
   "metadata": {},
   "source": [
    "### Below are a few examples of evaluating arithmetic expresions in Python"
   ]
  },
  {
   "cell_type": "code",
   "execution_count": 2,
   "id": "d2b980bf",
   "metadata": {},
   "outputs": [
    {
     "data": {
      "text/plain": [
       "17"
      ]
     },
     "execution_count": 2,
     "metadata": {},
     "output_type": "execute_result"
    }
   ],
   "source": [
    "# This is a simple arithmetic expression to multiply then add integers\n",
    "(3*4)+5"
   ]
  },
  {
   "cell_type": "code",
   "execution_count": 3,
   "id": "45887c22",
   "metadata": {},
   "outputs": [
    {
     "data": {
      "text/plain": [
       "3.3333333333333335"
      ]
     },
     "execution_count": 3,
     "metadata": {},
     "output_type": "execute_result"
    }
   ],
   "source": [
    "#  this will convert 200 minutes to hours by dividing by 60\n",
    "200/60"
   ]
  },
  {
   "cell_type": "markdown",
   "id": "f919517c",
   "metadata": {},
   "source": [
    "## Author: \n",
    "Sean Cunningham"
   ]
  },
  {
   "cell_type": "code",
   "execution_count": null,
   "id": "1756d441",
   "metadata": {},
   "outputs": [],
   "source": []
  }
 ],
 "metadata": {
  "kernelspec": {
   "display_name": "Python 3 (ipykernel)",
   "language": "python",
   "name": "python3"
  },
  "language_info": {
   "codemirror_mode": {
    "name": "ipython",
    "version": 3
   },
   "file_extension": ".py",
   "mimetype": "text/x-python",
   "name": "python",
   "nbconvert_exporter": "python",
   "pygments_lexer": "ipython3",
   "version": "3.11.4"
  }
 },
 "nbformat": 4,
 "nbformat_minor": 5
}
